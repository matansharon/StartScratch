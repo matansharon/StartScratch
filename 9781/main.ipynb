{
 "cells": [
  {
   "cell_type": "code",
   "execution_count": 25,
   "metadata": {},
   "outputs": [
    {
     "data": {
      "text/plain": [
       "type\n",
       "0    3\n",
       "1    3\n",
       "Name: processed_rate, dtype: int64"
      ]
     },
     "execution_count": 25,
     "metadata": {},
     "output_type": "execute_result"
    }
   ],
   "source": [
    "import pandas as pd\n",
    "complaint_id =[0, 1, 2, 3, 4, 5]\n",
    "type= [0, 0, 0, 1, 1, 1]\n",
    "processed= [True, True, False, True, True, False]\n",
    "df=pd.DataFrame({\n",
    "    'complaint_id':complaint_id,\n",
    "    'type':type,\n",
    "    'processed':processed\n",
    "})\n",
    "#do this df.groupby('type').processed.mean() and show also the type coulmn\n",
    "\n",
    "#do a value_count on the type column and show the type column and the count as processed_rate\n",
    "\n",
    "\n",
    "\n"
   ]
  }
 ],
 "metadata": {
  "kernelspec": {
   "display_name": "Python 3.9.12 ('base')",
   "language": "python",
   "name": "python3"
  },
  "language_info": {
   "codemirror_mode": {
    "name": "ipython",
    "version": 3
   },
   "file_extension": ".py",
   "mimetype": "text/x-python",
   "name": "python",
   "nbconvert_exporter": "python",
   "pygments_lexer": "ipython3",
   "version": "3.9.12"
  },
  "orig_nbformat": 4,
  "vscode": {
   "interpreter": {
    "hash": "3d5db532c048f37cc8487068e8e1c41ac5ce63d1b52e8a8c32ff882c22c4c18a"
   }
  }
 },
 "nbformat": 4,
 "nbformat_minor": 2
}
