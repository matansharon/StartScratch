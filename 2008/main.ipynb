{
 "cells": [
  {
   "cell_type": "code",
   "execution_count": 43,
   "metadata": {},
   "outputs": [],
   "source": [
    "import pandas as pd\n",
    "import itertools\n",
    "id = [1, 2, 3, 4, 5, 6]\n",
    "origin = ['SFO', 'SFO', 'SFO', 'DFW', 'DFW', 'JFK']\n",
    "destination = ['JFK', 'DFW', 'MCO', 'MCO', 'JFK', 'LHR']\n",
    "cost = [500, 200, 400, 100, 200, 1000]\n",
    "test_df=pd.DataFrame({'id':id, 'origin':origin, 'destination':destination, 'cost':cost})\n",
    "da_flights=pd.DataFrame({'id':id, 'origin':origin, 'destination':destination, 'cost':cost})\n",
    "import pandas as pd\n",
    "import itertools\n",
    "\n",
    "# df = pd.DataFrame(list(itertools.product(da_flights['origin'].unique(), da_flights['destination'].unique())),\n",
    "#                   columns=['origin', 'destination'])\n",
    "# df = df[df['origin'] != df['destination']]\n",
    "\n",
    "# connections_1 = pd.merge(da_flights, da_flights,\n",
    "#                          how='left', left_on='destination', right_on='origin', suffixes=['_0', '_1'])\n",
    "# connections_2 = pd.merge(connections_1, da_flights[['origin', 'destination', 'cost']],\n",
    "#                          how='left', left_on='destination_1', right_on='origin', suffixes=['', '_2']).fillna(0)\n",
    "# connections_2.columns = ['id_0', 'origin_0', 'destination_0', 'cost_0', 'id_1', 'origin_1', 'destination_1',\n",
    "#                          'cost_1', 'origin_2', 'destination_2', 'cost_2']\n",
    "# connections_2['cost_v1'] = connections_2['cost_0'] + connections_2['cost_1']\n",
    "# connections_2['cost_v2'] = connections_2['cost_0'] + connections_2['cost_1'] + connections_2['cost_2']\n",
    "\n",
    "# result = pd.merge(df, da_flights[['origin', 'destination', 'cost']], how='left', on=['origin', 'destination'])\n",
    "\n",
    "# result = pd.merge(result, connections_2[['origin_0', 'destination_1', 'cost_v1']], how='left',\n",
    "#                   left_on=['origin', 'destination'], right_on=['origin_0', 'destination_1'])\n",
    "\n",
    "# result = pd.merge(result, connections_2[['origin_0', 'destination_2', 'cost_v2']], how='left',\n",
    "#                   left_on=['origin', 'destination'], right_on=['origin_0', 'destination_2'])\n",
    "# result['min_price'] = result[['cost', 'cost_v1', 'cost_v2']].min(axis=1)\n",
    "# result[~result['min_price'].isna()][['origin', 'destination', 'min_price']]\n"
   ]
  },
  {
   "cell_type": "code",
   "execution_count": 34,
   "metadata": {},
   "outputs": [],
   "source": [
    "# all_airports = set()\n",
    "# for i in  range(len(da_flights)):\n",
    "#     all_airports.add(da_flights['origin'][i])\n",
    "#     all_airports.add(da_flights['destination'][i])\n",
    "# all_airports = list(all_airports)\n",
    "# all_airports.sort()\n",
    "# #create a dictionary of all possible routes from origin to destination with cost\n",
    "# all_routes = {}\n",
    "# for i in range(len(all_airports)):\n",
    "#     for j in range(len(all_airports)):\n",
    "#         if i != j:\n",
    "#             all_routes[(all_airports[i], all_airports[j])] = []\n",
    "# for i in range(len(da_flights)):\n",
    "#     all_routes[(da_flights['origin'][i], da_flights['destination'][i])].append(da_flights['cost'][i])\n",
    "# #find the minimum cost for each route\n",
    "# min_cost = {}\n",
    "# for i in range(len(all_airports)):\n",
    "#     for j in range(len(all_airports)):\n",
    "#         if i != j:\n",
    "#             if len(all_routes[(all_airports[i], all_airports[j])]) > 0:\n",
    "#                 min_cost[(all_airports[i], all_airports[j])] = min(all_routes[(all_airports[i], all_airports[j])])\n",
    "#             else:\n",
    "#                 min_cost[(all_airports[i], all_airports[j])] = 0\n",
    "# #find the minimum cost for each route with one stop\n",
    "# min_cost_1 = {}\n",
    "# for i in range(len(all_airports)):\n",
    "#     for j in range(len(all_airports)):\n",
    "#         if i != j:\n",
    "#             min_cost_1[(all_airports[i], all_airports[j])] = 0\n",
    "#             for k in range(len(all_airports)):\n",
    "#                 if i != k and j != k:\n",
    "#                     if min_cost[(all_airports[i], all_airports[k])] > 0 and min_cost[(all_airports[k], all_airports[j])] > 0:\n",
    "#                         if min_cost_1[(all_airports[i], all_airports[j])] == 0:\n",
    "#                             min_cost_1[(all_airports[i], all_airports[j])] = min_cost[(all_airports[i], all_airports[k])] + min_cost[(all_airports[k], all_airports[j])]\n",
    "#                         else:\n",
    "#                             min_cost_1[(all_airports[i], all_airports[j])] = min(min_cost_1[(all_airports[i], all_airports[j])], min_cost[(all_airports[i], all_airports[k])] + min_cost[(all_airports[k], all_airports[j])])\n",
    "# #find the minimum cost for each route with two stops\n",
    "# min_cost_2 = {}\n",
    "# for i in range(len(all_airports)):\n",
    "#     for j in range(len(all_airports)):\n",
    "#         if i != j:\n",
    "#             min_cost_2[(all_airports[i], all_airports[j])] = 0\n",
    "#             for k in range(len(all_airports)):\n",
    "#                 if i != k and j != k:\n",
    "#                     for l in range(len(all_airports)):\n",
    "#                         if i != l and j != l and k != l:\n",
    "#                             if min_cost[(all_airports[i], all_airports[k])] > 0 and min_cost[(all_airports[k], all_airports[l])] > 0 and min_cost[(all_airports[l], all_airports[j])] > 0:\n",
    "#                                 if min_cost_2[(all_airports[i], all_airports[j])] == 0:\n",
    "#                                     min_cost_2[(all_airports[i], all_airports[j])] = min_cost[(all_airports[i], all_airports[k])] + min_cost[(all_airports[k], all_airports[l])] + min_cost[(all_airports[l], all_airports[j])]\n",
    "#                                 else:\n",
    "#                                     min_cost_2[(all_airports[i], all_airports[j])] = min(min_cost_2[(all_airports[i], all_airports[j])], min_cost[(all_airports[i], all_airports[k])] + min_cost[(all_airports[k], all_airports[l])] + min_cost[(all_airports[l], all_airports[j])])\n",
    "# #get the minimum cost for each route from min_cost, min_cost_1, and min_cost_2 for each route and store it in a dataframe with origin, destination, and min_cost columns but the result must be greater than 0\n",
    "# print(min_cost)\n",
    "# print('----------------')\n",
    "# print(min_cost_1)\n",
    "# print('----------------')\n",
    "# print(min_cost_2)\n",
    "# #delete the routes with cost 0 from min_cost, min_cost_1, and min_cost_2\n",
    "# for i in range(len(all_airports)):\n",
    "#     for j in range(len(all_airports)):\n",
    "#         if i != j:\n",
    "#             if min_cost[(all_airports[i], all_airports[j])] == 0:\n",
    "#                 del min_cost[(all_airports[i], all_airports[j])]\n",
    "#             if min_cost_1[(all_airports[i], all_airports[j])] == 0:\n",
    "#                 del min_cost_1[(all_airports[i], all_airports[j])]\n",
    "#             if min_cost_2[(all_airports[i], all_airports[j])] == 0:\n",
    "#                 del min_cost_2[(all_airports[i], all_airports[j])]\n",
    "# #combine min_cost, min_cost_1, and min_cost_2 into one dictionary\n",
    "# min_cost.update(min_cost_1)\n",
    "# min_cost.update(min_cost_2)\n",
    "# #convert the dictionary into a dataframe\n",
    "# min_cost"
   ]
  },
  {
   "cell_type": "code",
   "execution_count": 44,
   "metadata": {},
   "outputs": [
    {
     "data": {
      "text/plain": [
       "{'SFO': {'JFK': 500, 'DFW': 200, 'MCO': 400},\n",
       " 'DFW': {'MCO': 100, 'JFK': 200},\n",
       " 'JFK': {'LHR': 1000}}"
      ]
     },
     "execution_count": 44,
     "metadata": {},
     "output_type": "execute_result"
    }
   ],
   "source": [
    "pathes={}\n",
    "for i in range(len(test_df)):\n",
    "    row=test_df.iloc[i]\n",
    "    if row.origin not in pathes:\n",
    "        pathes[row.origin]={}\n",
    "    if row.destination not in pathes[row.origin]:\n",
    "        pathes[row.origin][row.destination]=row.cost\n",
    "\n",
    "\n",
    "pathes"
   ]
  },
  {
   "cell_type": "code",
   "execution_count": 69,
   "metadata": {},
   "outputs": [
    {
     "data": {
      "text/plain": [
       "{('SFO', 'JFK'): 400,\n",
       " ('SFO', 'LHR'): 1400,\n",
       " ('SFO', 'DFW'): 200,\n",
       " ('SFO', 'MCO'): 300,\n",
       " ('DFW', 'MCO'): 100,\n",
       " ('DFW', 'JFK'): 200,\n",
       " ('DFW', 'LHR'): 1200,\n",
       " ('JFK', 'LHR'): 1000}"
      ]
     },
     "execution_count": 69,
     "metadata": {},
     "output_type": "execute_result"
    }
   ],
   "source": [
    "res={}\n",
    "\n",
    "for i in pathes:\n",
    "    \n",
    "    for j in pathes[i]:\n",
    "        # print(i,j,pathes[i][j])\n",
    "        if (i,j) not in res:\n",
    "            res[(i,j)]=pathes[i][j]\n",
    "        if j in pathes:\n",
    "           for k in pathes[j]:\n",
    "            #    print(i,k,pathes[i][j]+pathes[j][k])\n",
    "                if (i,k) not in res:\n",
    "                    res[(i,k)]=pathes[i][j]+pathes[j][k]\n",
    "                else:\n",
    "                    res[(i,k)]=min(res[(i,k)],pathes[i][j]+pathes[j][k])\n",
    "res\n",
    "        \n",
    "\n",
    "\n",
    "        \n"
   ]
  }
 ],
 "metadata": {
  "kernelspec": {
   "display_name": "Python 3.9.12 ('base')",
   "language": "python",
   "name": "python3"
  },
  "language_info": {
   "codemirror_mode": {
    "name": "ipython",
    "version": 3
   },
   "file_extension": ".py",
   "mimetype": "text/x-python",
   "name": "python",
   "nbconvert_exporter": "python",
   "pygments_lexer": "ipython3",
   "version": "3.9.12"
  },
  "orig_nbformat": 4,
  "vscode": {
   "interpreter": {
    "hash": "3d5db532c048f37cc8487068e8e1c41ac5ce63d1b52e8a8c32ff882c22c4c18a"
   }
  }
 },
 "nbformat": 4,
 "nbformat_minor": 2
}
