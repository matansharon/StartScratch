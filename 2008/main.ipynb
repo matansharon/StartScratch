{
 "cells": [
  {
   "cell_type": "code",
   "execution_count": null,
   "metadata": {},
   "outputs": [],
   "source": [
    "import pandas as pd\n",
    "import itertools\n",
    "id = [1, 2, 3, 4, 5, 6]\n",
    "origin = ['SFO', 'SFO', 'SFO', 'DFW', 'DFW', 'JFK']\n",
    "destination = ['JFK', 'DFW', 'MCO', 'MCO', 'JFK', 'LHR']\n",
    "cost = [500, 200, 400, 100, 200, 1000]\n",
    "test_df=pd.DataFrame({'id':id, 'origin':origin, 'destination':destination, 'cost':cost})\n",
    "da_flights=pd.DataFrame({'id':id, 'origin':origin, 'destination':destination, 'cost':cost})\n",
    "import pandas as pd\n",
    "import itertools\n",
    "\n",
    "df = pd.DataFrame(list(itertools.product(da_flights['origin'].unique(), da_flights['destination'].unique())),\n",
    "                  columns=['origin', 'destination'])\n",
    "df = df[df['origin'] != df['destination']]\n",
    "\n",
    "connections_1 = pd.merge(da_flights, da_flights,\n",
    "                         how='left', left_on='destination', right_on='origin', suffixes=['_0', '_1'])\n",
    "connections_2 = pd.merge(connections_1, da_flights[['origin', 'destination', 'cost']],\n",
    "                         how='left', left_on='destination_1', right_on='origin', suffixes=['', '_2']).fillna(0)\n",
    "connections_2.columns = ['id_0', 'origin_0', 'destination_0', 'cost_0', 'id_1', 'origin_1', 'destination_1',\n",
    "                         'cost_1', 'origin_2', 'destination_2', 'cost_2']\n",
    "connections_2['cost_v1'] = connections_2['cost_0'] + connections_2['cost_1']\n",
    "connections_2['cost_v2'] = connections_2['cost_0'] + connections_2['cost_1'] + connections_2['cost_2']\n",
    "\n",
    "result = pd.merge(df, da_flights[['origin', 'destination', 'cost']], how='left', on=['origin', 'destination'])\n",
    "\n",
    "result = pd.merge(result, connections_2[['origin_0', 'destination_1', 'cost_v1']], how='left',\n",
    "                  left_on=['origin', 'destination'], right_on=['origin_0', 'destination_1'])\n",
    "\n",
    "result = pd.merge(result, connections_2[['origin_0', 'destination_2', 'cost_v2']], how='left',\n",
    "                  left_on=['origin', 'destination'], right_on=['origin_0', 'destination_2'])\n",
    "result['min_price'] = result[['cost', 'cost_v1', 'cost_v2']].min(axis=1)\n",
    "result[~result['min_price'].isna()][['origin', 'destination', 'min_price']]\n"
   ]
  },
  {
   "cell_type": "code",
   "execution_count": 77,
   "metadata": {},
   "outputs": [
    {
     "name": "stdout",
     "output_type": "stream",
     "text": [
      "{('DFW', 'JFK'): 200, ('DFW', 'LHR'): 0, ('DFW', 'MCO'): 100, ('DFW', 'SFO'): 0, ('JFK', 'DFW'): 0, ('JFK', 'LHR'): 1000, ('JFK', 'MCO'): 0, ('JFK', 'SFO'): 0, ('LHR', 'DFW'): 0, ('LHR', 'JFK'): 0, ('LHR', 'MCO'): 0, ('LHR', 'SFO'): 0, ('MCO', 'DFW'): 0, ('MCO', 'JFK'): 0, ('MCO', 'LHR'): 0, ('MCO', 'SFO'): 0, ('SFO', 'DFW'): 200, ('SFO', 'JFK'): 500, ('SFO', 'LHR'): 0, ('SFO', 'MCO'): 400}\n",
      "----------------\n",
      "{('DFW', 'JFK'): 0, ('DFW', 'LHR'): 1200, ('DFW', 'MCO'): 0, ('DFW', 'SFO'): 0, ('JFK', 'DFW'): 0, ('JFK', 'LHR'): 0, ('JFK', 'MCO'): 0, ('JFK', 'SFO'): 0, ('LHR', 'DFW'): 0, ('LHR', 'JFK'): 0, ('LHR', 'MCO'): 0, ('LHR', 'SFO'): 0, ('MCO', 'DFW'): 0, ('MCO', 'JFK'): 0, ('MCO', 'LHR'): 0, ('MCO', 'SFO'): 0, ('SFO', 'DFW'): 0, ('SFO', 'JFK'): 400, ('SFO', 'LHR'): 1500, ('SFO', 'MCO'): 300}\n",
      "----------------\n",
      "{('DFW', 'JFK'): 0, ('DFW', 'LHR'): 0, ('DFW', 'MCO'): 0, ('DFW', 'SFO'): 0, ('JFK', 'DFW'): 0, ('JFK', 'LHR'): 0, ('JFK', 'MCO'): 0, ('JFK', 'SFO'): 0, ('LHR', 'DFW'): 0, ('LHR', 'JFK'): 0, ('LHR', 'MCO'): 0, ('LHR', 'SFO'): 0, ('MCO', 'DFW'): 0, ('MCO', 'JFK'): 0, ('MCO', 'LHR'): 0, ('MCO', 'SFO'): 0, ('SFO', 'DFW'): 0, ('SFO', 'JFK'): 0, ('SFO', 'LHR'): 1400, ('SFO', 'MCO'): 0}\n"
     ]
    },
    {
     "data": {
      "text/plain": [
       "{('DFW', 'JFK'): 200,\n",
       " ('DFW', 'MCO'): 100,\n",
       " ('JFK', 'LHR'): 1000,\n",
       " ('SFO', 'DFW'): 200,\n",
       " ('SFO', 'JFK'): 400,\n",
       " ('SFO', 'MCO'): 300,\n",
       " ('DFW', 'LHR'): 1200,\n",
       " ('SFO', 'LHR'): 1400}"
      ]
     },
     "execution_count": 77,
     "metadata": {},
     "output_type": "execute_result"
    }
   ],
   "source": [
    "all_airports = set()\n",
    "for i in  range(len(da_flights)):\n",
    "    all_airports.add(da_flights['origin'][i])\n",
    "    all_airports.add(da_flights['destination'][i])\n",
    "all_airports = list(all_airports)\n",
    "all_airports.sort()\n",
    "#create a dictionary of all possible routes from origin to destination with cost\n",
    "all_routes = {}\n",
    "for i in range(len(all_airports)):\n",
    "    for j in range(len(all_airports)):\n",
    "        if i != j:\n",
    "            all_routes[(all_airports[i], all_airports[j])] = []\n",
    "for i in range(len(da_flights)):\n",
    "    all_routes[(da_flights['origin'][i], da_flights['destination'][i])].append(da_flights['cost'][i])\n",
    "#find the minimum cost for each route\n",
    "min_cost = {}\n",
    "for i in range(len(all_airports)):\n",
    "    for j in range(len(all_airports)):\n",
    "        if i != j:\n",
    "            if len(all_routes[(all_airports[i], all_airports[j])]) > 0:\n",
    "                min_cost[(all_airports[i], all_airports[j])] = min(all_routes[(all_airports[i], all_airports[j])])\n",
    "            else:\n",
    "                min_cost[(all_airports[i], all_airports[j])] = 0\n",
    "#find the minimum cost for each route with one stop\n",
    "min_cost_1 = {}\n",
    "for i in range(len(all_airports)):\n",
    "    for j in range(len(all_airports)):\n",
    "        if i != j:\n",
    "            min_cost_1[(all_airports[i], all_airports[j])] = 0\n",
    "            for k in range(len(all_airports)):\n",
    "                if i != k and j != k:\n",
    "                    if min_cost[(all_airports[i], all_airports[k])] > 0 and min_cost[(all_airports[k], all_airports[j])] > 0:\n",
    "                        if min_cost_1[(all_airports[i], all_airports[j])] == 0:\n",
    "                            min_cost_1[(all_airports[i], all_airports[j])] = min_cost[(all_airports[i], all_airports[k])] + min_cost[(all_airports[k], all_airports[j])]\n",
    "                        else:\n",
    "                            min_cost_1[(all_airports[i], all_airports[j])] = min(min_cost_1[(all_airports[i], all_airports[j])], min_cost[(all_airports[i], all_airports[k])] + min_cost[(all_airports[k], all_airports[j])])\n",
    "#find the minimum cost for each route with two stops\n",
    "min_cost_2 = {}\n",
    "for i in range(len(all_airports)):\n",
    "    for j in range(len(all_airports)):\n",
    "        if i != j:\n",
    "            min_cost_2[(all_airports[i], all_airports[j])] = 0\n",
    "            for k in range(len(all_airports)):\n",
    "                if i != k and j != k:\n",
    "                    for l in range(len(all_airports)):\n",
    "                        if i != l and j != l and k != l:\n",
    "                            if min_cost[(all_airports[i], all_airports[k])] > 0 and min_cost[(all_airports[k], all_airports[l])] > 0 and min_cost[(all_airports[l], all_airports[j])] > 0:\n",
    "                                if min_cost_2[(all_airports[i], all_airports[j])] == 0:\n",
    "                                    min_cost_2[(all_airports[i], all_airports[j])] = min_cost[(all_airports[i], all_airports[k])] + min_cost[(all_airports[k], all_airports[l])] + min_cost[(all_airports[l], all_airports[j])]\n",
    "                                else:\n",
    "                                    min_cost_2[(all_airports[i], all_airports[j])] = min(min_cost_2[(all_airports[i], all_airports[j])], min_cost[(all_airports[i], all_airports[k])] + min_cost[(all_airports[k], all_airports[l])] + min_cost[(all_airports[l], all_airports[j])])\n",
    "#get the minimum cost for each route from min_cost, min_cost_1, and min_cost_2 for each route and store it in a dataframe with origin, destination, and min_cost columns but the result must be greater than 0\n",
    "print(min_cost)\n",
    "print('----------------')\n",
    "print(min_cost_1)\n",
    "print('----------------')\n",
    "print(min_cost_2)\n",
    "#delete the routes with cost 0 from min_cost, min_cost_1, and min_cost_2\n",
    "for i in range(len(all_airports)):\n",
    "    for j in range(len(all_airports)):\n",
    "        if i != j:\n",
    "            if min_cost[(all_airports[i], all_airports[j])] == 0:\n",
    "                del min_cost[(all_airports[i], all_airports[j])]\n",
    "            if min_cost_1[(all_airports[i], all_airports[j])] == 0:\n",
    "                del min_cost_1[(all_airports[i], all_airports[j])]\n",
    "            if min_cost_2[(all_airports[i], all_airports[j])] == 0:\n",
    "                del min_cost_2[(all_airports[i], all_airports[j])]\n",
    "#combine min_cost, min_cost_1, and min_cost_2 into one dictionary\n",
    "min_cost.update(min_cost_1)\n",
    "min_cost.update(min_cost_2)\n",
    "#convert the dictionary into a dataframe\n",
    "min_cost"
   ]
  }
 ],
 "metadata": {
  "kernelspec": {
   "display_name": "base",
   "language": "python",
   "name": "python3"
  },
  "language_info": {
   "codemirror_mode": {
    "name": "ipython",
    "version": 3
   },
   "file_extension": ".py",
   "mimetype": "text/x-python",
   "name": "python",
   "nbconvert_exporter": "python",
   "pygments_lexer": "ipython3",
   "version": "3.9.13"
  },
  "orig_nbformat": 4,
  "vscode": {
   "interpreter": {
    "hash": "3f5489b7472e0db5a0aca474269aa1efb9aed33b7cc21a8c650b51c14ef83b94"
   }
  }
 },
 "nbformat": 4,
 "nbformat_minor": 2
}
