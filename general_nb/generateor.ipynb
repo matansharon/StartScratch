{
 "cells": [
  {
   "cell_type": "code",
   "execution_count": 26,
   "metadata": {},
   "outputs": [],
   "source": [
    "import pandas as pd\n",
    "import os\n",
    "from random import randint,choice,random\n",
    "from datetime import datetime, timedelta"
   ]
  },
  {
   "cell_type": "code",
   "execution_count": 27,
   "metadata": {},
   "outputs": [],
   "source": [
    "def gen_datetime(min_year=1900, max_year=datetime.now().year):\n",
    "    \n",
    "    start = datetime(min_year, 1, 1, 0, 0, 0)\n",
    "    years = max_year - min_year + 1\n",
    "    end = start + timedelta(days=365 * years)\n",
    "    return start + (end - start) * random()\n",
    "def convert_str_to_datetime(s):\n",
    "    temp=s\n",
    "    s1=[]\n",
    "    if s[-1]==\"\\n\":\n",
    "        temp=s[:-1]\n",
    "    temp=temp.split(\"-\")\n",
    "    try:\n",
    "        return datetime(temp[0],temp[1],temp[2])\n",
    "    except:\n",
    "        return None"
   ]
  },
  {
   "cell_type": "code",
   "execution_count": 23,
   "metadata": {},
   "outputs": [],
   "source": [
    "#crete a function to generate data with a given length and args\n",
    "def generate_data(length, list_of_args):\n",
    "    #get the path of the current folder parent\n",
    "    path=os.getcwd()\n",
    "    data_path=os.path.abspath(os.path.join(path, os.pardir))\n",
    "    data = pd.DataFrame()\n",
    "#--------------------------------------------------------------------------------------------------------------------------------------------------------------------------------\n",
    "\n",
    "    if 'first_name' in list_of_args:\n",
    "        temp=[]\n",
    "        names=[]\n",
    "        #read the firt_names.txt from the data folder into a list\n",
    "        with open(data_path+'/data/first_names.txt', 'r') as f:\n",
    "            for line in f:\n",
    "                names.append(line.strip())\n",
    "        for i in range(length):\n",
    "            temp.append(choice(names))\n",
    "        data['first_name']=temp\n",
    "#--------------------------------------------------------------------------------------------------------------------------------------------------------------------------------\n",
    "    if 'last_name' in list_of_args:\n",
    "        temp=[]\n",
    "        names=[]\n",
    "        #read the last_names.txt from the data folder into a list\n",
    "        with open(data_path+'/data/last_names.txt', 'r') as f:\n",
    "            for line in f:\n",
    "                names.append(line.strip())\n",
    "        for i in range(length):\n",
    "            temp.append(choice(names))\n",
    "        data['last_name']=temp\n",
    "#--------------------------------------------------------------------------------------------------------------------------------------------------------------------------------\n",
    "    if 'date' in list_of_args:\n",
    "        temp=[]\n",
    "        for i in range(length):\n",
    "            temp.append(gen_datetime())\n",
    "        data['date']=temp\n",
    "        \n",
    "    return data"
   ]
  },
  {
   "cell_type": "code",
   "execution_count": 24,
   "metadata": {},
   "outputs": [
    {
     "name": "stdout",
     "output_type": "stream",
     "text": [
      "['Rebecca', 'Gene', 'Alexander', 'Paige', 'Maria', 'Melissa', 'Taylor', 'Clifford', 'Brian', 'Beth']\n"
     ]
    },
    {
     "data": {
      "text/html": [
       "<div>\n",
       "<style scoped>\n",
       "    .dataframe tbody tr th:only-of-type {\n",
       "        vertical-align: middle;\n",
       "    }\n",
       "\n",
       "    .dataframe tbody tr th {\n",
       "        vertical-align: top;\n",
       "    }\n",
       "\n",
       "    .dataframe thead th {\n",
       "        text-align: right;\n",
       "    }\n",
       "</style>\n",
       "<table border=\"1\" class=\"dataframe\">\n",
       "  <thead>\n",
       "    <tr style=\"text-align: right;\">\n",
       "      <th></th>\n",
       "    </tr>\n",
       "  </thead>\n",
       "  <tbody>\n",
       "  </tbody>\n",
       "</table>\n",
       "</div>"
      ],
      "text/plain": [
       "Empty DataFrame\n",
       "Columns: []\n",
       "Index: []"
      ]
     },
     "execution_count": 24,
     "metadata": {},
     "output_type": "execute_result"
    }
   ],
   "source": [
    "generate_data(10, ['first_name'])"
   ]
  }
 ],
 "metadata": {
  "kernelspec": {
   "display_name": "Python 3.9.12 ('base')",
   "language": "python",
   "name": "python3"
  },
  "language_info": {
   "codemirror_mode": {
    "name": "ipython",
    "version": 3
   },
   "file_extension": ".py",
   "mimetype": "text/x-python",
   "name": "python",
   "nbconvert_exporter": "python",
   "pygments_lexer": "ipython3",
   "version": "3.9.12"
  },
  "orig_nbformat": 4,
  "vscode": {
   "interpreter": {
    "hash": "3d5db532c048f37cc8487068e8e1c41ac5ce63d1b52e8a8c32ff882c22c4c18a"
   }
  }
 },
 "nbformat": 4,
 "nbformat_minor": 2
}
