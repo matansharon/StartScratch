{
 "cells": [
  {
   "cell_type": "code",
   "execution_count": 1,
   "metadata": {},
   "outputs": [],
   "source": [
    "id ={10301, 10302, 10303, 10304, 10305, 10306, 10307, 10308, 10309, 10310, 10311, 10312, 10313, 10314, 10315, 10316, 10317, 10318, 10319, 10320, 10321, 10322, 10323, 10324, 10325, 10326, 10327, 10328, 10329, 10330, 10331, 10332, 10333, 10334, 10335, 10336, 10337, 10338, 10339, 10340, 10341, 10342, 10343, 10344, 10345, 10346, 10347, 10348, 10349, 10350, 10351, 10352, 10353, 10354, 10355, 10356, 10357, 10358, 10359, 10360, 10361, 10362, 10363, 10364, 10365, 10366, 10367, 10368, 10369, 10370, 10371, 10372, 10373, 10374, 10375, 10376, 10377, 10378, 10379, 10380, 10381, 10382, 10383, 10384, 10385, 10386, 10387, 10388, 10389, 10390, 10391, 10392, 10393, 10394, 10395, 10396, 10397, 10398, 10399, 10400}\n",
    "first_name ={'Paige', 'Meghan', 'Seth', 'Tyler', 'Henry', 'Pamela', 'Elijah', 'Andrew', 'Justin', 'Keith', 'Debra', 'Johnny', 'Gregory', 'Joshua', 'Olivia', 'Katherine', 'Victor', 'Alison', 'Jennifer', 'Christopher', 'Michelle', 'Michael', 'Philip', 'Kathleen', 'Jacob', 'Ashley', 'Alexander', 'Randy', 'Susan', 'Beth', 'Aaron', 'Robert', 'Gloria', 'Maria', 'Desiree', 'Jenny', 'Heather', 'Jonathan', 'Edwin', 'Luis', 'Rebecca', 'Sierra', 'Clifford', 'Elizabeth', 'Kimberly', 'Patrick', 'Adam', 'Jessica', 'Xavier', 'Ryan', 'Dawn', 'Anita', 'David', 'Jacqueline', 'Sharon', 'Patricia', 'Joseph', 'Craig', 'Kenneth', 'Robin', 'Paul', 'Mary', 'Stephanie', 'Jeremy', 'Lawrence', 'Chelsea', 'Alan', 'Randall', 'Deborah', 'Gene', 'Sarah', 'Lori', 'Anthony', 'Wendy', 'William', 'Taylor', 'Brian', 'Melissa', 'Derek', 'Edward'}\n",
    "last_name ={'Brown', 'Mccall', 'Krause', 'Hernandez', 'Chavez', 'Torres', 'Nguyen', 'Nichols', 'Ramos', 'Mitchell', 'Cook', 'Kelly', 'Davis', 'Kramer', 'Brewer', 'Robertson', 'Holmes', 'Burns', 'Stephens', 'Wilson', 'Gonzalez', 'Phillips', 'Molina', 'Horton', 'Austin', 'Wolf', 'White', 'Owens', 'Tucker', 'Fischer', 'Fisher', 'Mcknight', 'Booth', 'Chen', 'Simmons', 'West', 'Lucero', 'Todd', 'Blankenship', 'Turner', 'Barnes', 'Sanchez', 'Hall', 'Chapman', 'Rodriguez', 'Foley', 'Li', 'Huffman', 'Carr', 'Baker', 'Mejia', 'Ryan', 'Warren', 'Martinez', 'Page', 'Pace', 'Lee', 'Lester', 'Robinson', 'Fritz', 'Holt', 'Mills', 'Nelson', 'Lopez', 'Solis', 'Schroeder', 'Horne', 'Harvey', 'Morgan', 'Liu', 'Raymond', 'Johnson', 'Jones', 'Lawson', 'Solomon', 'Smith', 'Miller', 'Abbott', 'Duncan', 'Henderson', 'Knapp', 'Sheppard', 'Stewart', 'Gamble', 'Bullock', 'Hoffman', 'Gross', 'Shepard', 'Anderson', 'Potter'}\n",
    "salary ={39940, 11286, 44579, 47657, 36911, 32308, 18997, 20534, 37431, 48187, 30267, 28733, 46654, 45121, 15426, 34888, 15947, 25681, 15442, 45649, 18517, 34902, 45144, 28762, 40546, 19044, 28782, 20592, 37494, 20599, 13433, 11913, 43154, 28312, 22681, 44696, 29339, 40606, 21670, 12984, 40638, 26304, 12993, 20676, 43730, 45269, 19669, 20695, 45787, 30432, 31456, 28902, 36605, 20225, 49926, 14603, 46356, 43801, 33050, 33575, 15145, 20785, 30517, 34620, 35144, 37710, 49488, 28516, 18280, 31082, 11636, 34679, 27006, 28034, 13188, 27024, 18842, 37278, 10143, 32165, 27056, 40882, 17844, 31160, 44472, 15808, 39362, 31170, 35266, 32199, 33224, 15334, 19945, 23532, 41454, 30196, 42487, 19448, 24569, 25085}\n",
    "department_id ={1, 2, 3, 4, 5, 6}\n",
    "import pandas as pd\n",
    "import numpy as np\n",
    "# length=10000\n",
    "# df=pd.DataFrame({\n",
    "#     'id':np.random.choice(id,length),\n",
    "# })"
   ]
  }
 ],
 "metadata": {
  "kernelspec": {
   "display_name": "Python 3.9.12 ('base')",
   "language": "python",
   "name": "python3"
  },
  "language_info": {
   "codemirror_mode": {
    "name": "ipython",
    "version": 3
   },
   "file_extension": ".py",
   "mimetype": "text/x-python",
   "name": "python",
   "nbconvert_exporter": "python",
   "pygments_lexer": "ipython3",
   "version": "3.9.12"
  },
  "orig_nbformat": 4,
  "vscode": {
   "interpreter": {
    "hash": "3d5db532c048f37cc8487068e8e1c41ac5ce63d1b52e8a8c32ff882c22c4c18a"
   }
  }
 },
 "nbformat": 4,
 "nbformat_minor": 2
}
