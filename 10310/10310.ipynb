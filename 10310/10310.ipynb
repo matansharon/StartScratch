{
 "cells": [
  {
   "cell_type": "code",
   "execution_count": 1,
   "metadata": {},
   "outputs": [],
   "source": [
    "import pandas as pd\n",
    "import numpy as np"
   ]
  },
  {
   "cell_type": "code",
   "execution_count": 3,
   "metadata": {},
   "outputs": [],
   "source": [
    "id =[1, 2, 3, 4, 5, 6, 7, 8, 9, 10]\n",
    "student =['Tracie Lopez', 'John Miranda', 'Donna Jimenez', 'Rachael Smith', 'Scott Taylor', 'Natalie Palmer', 'Tom Saunders', 'James Burgess', 'Karen Austin', 'Matthew Ward']\n",
    "assignment1 =[72, 76, 80, 85, 55, 87, 89, 90, 91, 60]\n",
    "assignment2 =[98, 66, 70, 75, 85, 55, 88, 90]\n",
    "assignment3 =[65, 98, 70, 75, 80, 90]\n",
    "#add all the lists into a dictionary\n",
    "dict = {'id': id, 'student': student, 'assignment1': assignment1, 'assignment2': assignment2, 'assignment3': assignment3}\n"
   ]
  },
  {
   "cell_type": "code",
   "execution_count": 14,
   "metadata": {},
   "outputs": [
    {
     "data": {
      "text/plain": [
       "43"
      ]
     },
     "execution_count": 14,
     "metadata": {},
     "output_type": "execute_result"
    }
   ],
   "source": [
    "length=10000\n",
    "df=pd.DataFrame({\n",
    "  'id':np.random.choice(id,length),\n",
    "  'student':np.random.choice(student,length),\n",
    "  'assignment1':np.random.choice(assignment1,length),\n",
    "    'assignment2':np.random.choice(assignment2,length),\n",
    "    'assignment3':np.random.choice(assignment3,length)\n",
    "    \n",
    "})\n",
    "#calculte the difference between the max and min values of the assignmet1, assignmet2, assignmet3 of each row\n",
    "df['max-min']=df[['assignment1','assignment2','assignment3']].max(axis=1)-df[['assignment1','assignment2','assignment3']].min(axis=1)\n",
    "max(df['max-min'])"
   ]
  }
 ],
 "metadata": {
  "kernelspec": {
   "display_name": "base",
   "language": "python",
   "name": "python3"
  },
  "language_info": {
   "codemirror_mode": {
    "name": "ipython",
    "version": 3
   },
   "file_extension": ".py",
   "mimetype": "text/x-python",
   "name": "python",
   "nbconvert_exporter": "python",
   "pygments_lexer": "ipython3",
   "version": "3.9.13"
  },
  "orig_nbformat": 4,
  "vscode": {
   "interpreter": {
    "hash": "3f5489b7472e0db5a0aca474269aa1efb9aed33b7cc21a8c650b51c14ef83b94"
   }
  }
 },
 "nbformat": 4,
 "nbformat_minor": 2
}
