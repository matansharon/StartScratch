{
 "cells": [
  {
   "cell_type": "code",
   "execution_count": 2,
   "metadata": {},
   "outputs": [],
   "source": [
    "import pandas as pd"
   ]
  },
  {
   "cell_type": "code",
   "execution_count": 12,
   "metadata": {},
   "outputs": [
    {
     "data": {
      "text/plain": [
       "3          Manager\n",
       "4    Asst. Manager\n",
       "Name: worker_title, dtype: object"
      ]
     },
     "execution_count": 12,
     "metadata": {},
     "output_type": "execute_result"
    }
   ],
   "source": [
    "worker_id =[1, 2, 3, 4, 5, 6, 7, 8]\n",
    "first_name =['Monika', 'Niharika', 'Vishal', 'Amitah', 'Vivek', 'Vipul', 'Satish', 'Geetika']\n",
    "last_name =['Arora', 'Verma', 'Singhal', 'Singh', 'Bhati', 'Diwan', 'Kumar', 'Chauhan']\n",
    "salary =[100000, 80000, 300000, 500000, 500000, 200000, 75000, 90000]\n",
    "joining_date = ['2014-02-20', '2014-06-11', '2014-02-20', '2014-02-20', '2014-06-11', '2014-06-11', '2014-01-20', '2014-04-11']\n",
    "department =['HR', 'Admin', 'HR', 'Admin', 'Admin', 'Account', 'Account', 'Admin']\n",
    "worker_ref_id =[1, 2, 8, 5, 4, 7, 6, 3]\n",
    "worker_title =['Manager', 'Executive', 'Executive', 'Manager', 'Asst. Manager', 'Executive', 'Lead', 'Lead']\n",
    "affected_from =['2016-02-20', '2016-06-11', '2016-06-11', '2016-06-11', '2016-06-11', '2016-06-11', '2016-06-11', '2016-06-11']\n",
    "worker=pd.DataFrame({\n",
    "    'worker_id':worker_id,\n",
    "    'first_name':first_name,\n",
    "    'last_name':last_name,\n",
    "    'salary':salary,\n",
    "    'joining_date':joining_date,\n",
    "    'department':department\n",
    "})\n",
    "title=pd.DataFrame({\n",
    "    'worker_ref_id':worker_ref_id,\n",
    "    'worker_title':worker_title,\n",
    "    'affected_from':affected_from   \n",
    "})\n",
    "top2=worker.sort_values(by='salary',ascending=False).head(2)\n",
    "#get the lines from title where the top2 worker_ref_id is present\n",
    "top2_title=title[title['worker_ref_id'].isin(top2['worker_id'])]\n",
    "top2_title['worker_title']\n"
   ]
  }
 ],
 "metadata": {
  "kernelspec": {
   "display_name": "base",
   "language": "python",
   "name": "python3"
  },
  "language_info": {
   "codemirror_mode": {
    "name": "ipython",
    "version": 3
   },
   "file_extension": ".py",
   "mimetype": "text/x-python",
   "name": "python",
   "nbconvert_exporter": "python",
   "pygments_lexer": "ipython3",
   "version": "3.9.13"
  },
  "orig_nbformat": 4,
  "vscode": {
   "interpreter": {
    "hash": "3f5489b7472e0db5a0aca474269aa1efb9aed33b7cc21a8c650b51c14ef83b94"
   }
  }
 },
 "nbformat": 4,
 "nbformat_minor": 2
}
