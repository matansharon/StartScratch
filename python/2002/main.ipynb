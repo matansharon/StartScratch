{
 "cells": [
  {
   "cell_type": "code",
   "execution_count": 1,
   "metadata": {},
   "outputs": [],
   "source": [
    "import pandas as pd"
   ]
  },
  {
   "cell_type": "code",
   "execution_count": 2,
   "metadata": {},
   "outputs": [],
   "source": [
    "id = [1, 2, 3, 4, 5, 6, 7, 8, 9, 10, 11]\n",
    "user_id = [100, 100, 101, 101, 101, 102, 107, 108, 108, 108, 100]\n",
    "created_at = ['2017-04-21 00:00:00', '2017-04-27 00:00:00', '2017-04-22 00:00:00', '2017-04-23 00:00:00', '2017-04-25 00:00:00', '2017-04-27 00:00:00', '2017-04-27 00:00:00', '2017-04-21 00:00:00', '2017-04-27 00:00:00', '2017-04-27 00:00:00', '2015-04-21 00:00:00']\n",
    "status = ['prequal_completd_offer', 'offer_accepted', 'prequal_completd_no_offer', 'offer_accepted', 'offer_accepted', 'offer_accepted', 'prequal_response_received', 'form_in_progress', 'offer_accepted', 'prequal_response_received', 'prequal_completd_offer']\n",
    "type = ['Refinance', 'Refinance', 'Refinance', 'Refinance', 'Personal', 'InSchool', 'Personal', 'Refinance', 'Refinance', 'InSchool', 'Refinance']\n",
    "df=pd.DataFrame({'id':id,'user_id':user_id,'created_at':created_at,'status':status,'type':type})\n",
    "temp=[]\n",
    "for i in df.created_at:\n",
    "    temp.append(pd.Timestamp(i))\n",
    "df.created_at=temp"
   ]
  },
  {
   "cell_type": "code",
   "execution_count": 6,
   "metadata": {},
   "outputs": [
    {
     "name": "stdout",
     "output_type": "stream",
     "text": [
      "{100: {'Refinance': 3, 'InSchool': 0}, 101: {'Refinance': 2, 'InSchool': 0}, 102: {'Refinance': 0, 'InSchool': 1}, 107: {'Refinance': 0, 'InSchool': 0}, 108: {'Refinance': 2, 'InSchool': 1}}\n"
     ]
    }
   ],
   "source": [
    "res={}\n",
    "for i in range(len(df)):\n",
    "    row= df.iloc[i]\n",
    "    if row.user_id not in res:\n",
    "        res[row.user_id]={'Refinance':0,'InSchool':0}\n",
    "    if row.type=='Refinance' or row.type=='InSchool':\n",
    "        res[row.user_id][row.type]+=1\n",
    "num_res=0\n",
    "for k in res:\n",
    "    if res[k]['Refinance']>0 and res[k]['InSchool']>0:\n",
    "        num_res+=1\n",
    "print(res)"
   ]
  }
 ],
 "metadata": {
  "kernelspec": {
   "display_name": "base",
   "language": "python",
   "name": "python3"
  },
  "language_info": {
   "codemirror_mode": {
    "name": "ipython",
    "version": 3
   },
   "file_extension": ".py",
   "mimetype": "text/x-python",
   "name": "python",
   "nbconvert_exporter": "python",
   "pygments_lexer": "ipython3",
   "version": "3.9.13"
  },
  "orig_nbformat": 4,
  "vscode": {
   "interpreter": {
    "hash": "3f5489b7472e0db5a0aca474269aa1efb9aed33b7cc21a8c650b51c14ef83b94"
   }
  }
 },
 "nbformat": 4,
 "nbformat_minor": 2
}
