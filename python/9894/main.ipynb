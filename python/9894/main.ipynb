{
 "cells": [
  {
   "cell_type": "code",
   "execution_count": 1,
   "metadata": {},
   "outputs": [],
   "source": [
    "import pandas as pd\n",
    "id =[5, 13, 11, 10, 19, 18, 20, 21, 22, 23, 25, 26, 27, 29, 28, 6, 7, 9, 17, 12, 14, 16, 15, 24, 30, 8, 1, 2, 3, 4]\n",
    "first_name= ['Max', 'Katty', 'Richerd', 'Jennifer', 'George', 'Laila', 'Sarrah', 'Suzan', 'Mandy', 'Britney', 'Jack', 'Ben', 'Tom', 'Antoney', 'Morgan', 'Molly', 'Nicky', 'Monika', 'Mick', 'Shandler', 'Jason', 'Celine', 'Michale', 'Adam', 'Mark', 'John', 'Allen', 'Joe', 'Henry', 'Sam']\n",
    "last_name =['George', 'Bond', 'Gear', 'Dion', 'Joe', 'Mark', 'Bicky', 'Lee', 'John', 'Berry', 'Mick', 'Ten', 'Fridy', 'Adam', 'Matt', 'Sam', 'Bat', 'William', 'Berry', 'Bing', 'Tom', 'Anston', 'Jackson', 'Morris', 'Jon', 'Ford', 'Wang', 'Jack', 'Ted', 'Mark']\n",
    "age =[26, 56, 57, 34, 50, 26, 31, 34, 31, 45, 29, 43, 32, 34, 25, 28, 33, 33, 44, 23, 23, 27, 44, 30, 28, 26, 55, 32, 31, 25]\n",
    "sex =['M', 'F', 'M', 'F', 'M', 'F', 'F', 'F', 'F', 'F', 'M', 'M', 'M', 'M', 'M', 'F', 'F', 'F', 'M', 'M', 'M', 'F', 'F', 'M', 'M', 'M', 'F', 'M', 'M', 'M']\n",
    "employee_title= ['Sales', 'Manager', 'Manager', 'Sales', 'Manager', 'Sales', 'Senior Sales', 'Sales', 'Sales', 'Sales', 'Sales', 'Sales', 'Sales', 'Sales', 'Sales', 'Sales', 'Sales', 'Sales', 'Senior Sales', 'Auditor', 'Auditor', 'Auditor', 'Auditor', 'Sales', 'Sales', 'Senior Sales', 'Manager', 'Sales', 'Senior Sales', 'Sales']\n",
    "department =['Sales', 'Management', 'Management', 'Sales', 'Management', 'Sales', 'Sales', 'Sales', 'Sales', 'Sales', 'Sales', 'Sales', 'Sales', 'Sales', 'Sales', 'Sales', 'Sales', 'Sales', 'Sales', 'Audit', 'Audit', 'Audit', 'Audit', 'Sales', 'Sales', 'Sales', 'Management', 'Sales', 'Sales', 'Sales']\n",
    "salary =[1300, 150000, 250000, 1000, 100000, 1000, 2000, 1300, 1300, 1200, 1300, 1300, 1200, 1300, 1200, 1400, 1400, 1000, 2200, 1100, 1000, 1000, 700, 1300, 1200, 1500, 200000, 1000, 2000, 1000]\n",
    "target =[200, 0, 0, 200, 0, 200, 200, 200, 200, 200, 200, 150, 200, 180, 200, 100, 400, 200, 200, 200, 200, 200, 150, 200, 200, 140, 0, 200, 200, 120]\n",
    "bonus =[150, 300, 300, 150, 300, 150, 150, 150, 150, 100, 100, 100, 150, 150, 150, 150, 100, 100, 150, 150, 150, 150, 150, 100, 150, 100, 300, 150, 150, 150]\n",
    "email =['Max@company.com', 'Katty@company.com', 'Richerd@company.com', 'Jennifer@company.com', 'George@company.com', 'Laila@company.com', 'Sarrah@company.com', 'Suzan@company.com', 'Mandy@company.com', 'Britney@company.com', 'Jack@company.com', 'Ben@company.com', 'Tom@company.com', 'Antoney@company.com', 'Morgan@company.com', 'Molly@company.com', 'Molly@company.com', 'Molly@company.com', 'Mick@company.com', 'Shandler@company.com', 'Jason@company.com', 'Celine@company.com', 'Michale@company.com', 'Adam@company.com', 'Mark@company.com', 'Molly@company.com', 'Allen@company.com', 'Joe@company.com', 'Henry@company.com', 'Sam@company.com']\n",
    "city =['California', 'Arizona', 'Alabama', 'Alabama', 'Florida', 'Florida', 'Florida', 'Florida', 'Florida', 'Florida', 'Hawaii', 'Hawaii', 'Hawaii', 'Hawaii', 'Hawaii', 'Arizona', 'Arizona', 'Alabama', 'Florida', 'Arizona', 'Arizona', 'Colorado', 'Colorado', 'Alabama', 'Alabama', 'Alabama', 'California', 'California', 'California', 'California']\n",
    "address =['2638 Richards Avenue', None, None, None, '1003 Wyatt Street', '3655 Spirit Drive', '1176 Tyler Avenue', '1275 Monroe Avenue', '2510 Maryland Avenue', '3946 Steve Hunt Road', '3762 Stratford Drive', '3055 Indiana Avenue', '801 Stratford Drive', '3533 Randall Drive', '2641  Randall Drive', '3632 Polk Street', '3461 Preston Street', None, None, None, None, None, None, '4541  Ferry Street', '2522  George Avenue', '4832  New Creek Road', '1069 Ventura Drive', '995 Jim Rosa Lane', '1609 Ford Street', '4869 Libby Street']\n",
    "manager_id =[1, 1, 1, 13, 1, 11, 19, 19, 19, 19, 19, 19, 1, 1, 1, 13, 13, 13, 11, 11, 11, 11, 11, 19, 1, 13, 1, 1, 1, 1]"
   ]
  },
  {
   "cell_type": "code",
   "execution_count": 10,
   "metadata": {},
   "outputs": [
    {
     "data": {
      "text/html": [
       "<div>\n",
       "<style scoped>\n",
       "    .dataframe tbody tr th:only-of-type {\n",
       "        vertical-align: middle;\n",
       "    }\n",
       "\n",
       "    .dataframe tbody tr th {\n",
       "        vertical-align: top;\n",
       "    }\n",
       "\n",
       "    .dataframe thead th {\n",
       "        text-align: right;\n",
       "    }\n",
       "</style>\n",
       "<table border=\"1\" class=\"dataframe\">\n",
       "  <thead>\n",
       "    <tr style=\"text-align: right;\">\n",
       "      <th></th>\n",
       "      <th>first_name</th>\n",
       "      <th>salary</th>\n",
       "    </tr>\n",
       "  </thead>\n",
       "  <tbody>\n",
       "    <tr>\n",
       "      <th>2</th>\n",
       "      <td>Richerd</td>\n",
       "      <td>250000</td>\n",
       "    </tr>\n",
       "  </tbody>\n",
       "</table>\n",
       "</div>"
      ],
      "text/plain": [
       "  first_name  salary\n",
       "2    Richerd  250000"
      ]
     },
     "execution_count": 10,
     "metadata": {},
     "output_type": "execute_result"
    }
   ],
   "source": [
    "df=pd.DataFrame({\n",
    "    'id':id,\n",
    "    'first_name':first_name,\n",
    "    'last_name':last_name,\n",
    "    'age':age,\n",
    "    'sex':sex,\n",
    "    'employee_title':employee_title,\n",
    "    'department':department,\n",
    "    'salary':salary,\n",
    "    'target':target,\n",
    "    'bonus':bonus,\n",
    "    'email':email,\n",
    "    'city':city,\n",
    "    'address':address,\n",
    "    'manager_id':manager_id\n",
    "                 \n",
    "})\n",
    "res=[]\n",
    "for i in range(len(df)):\n",
    "    row=df.iloc[i]\n",
    "    manager=df[df['id']==row['manager_id']]\n",
    "    if row.salary>manager.salary.iloc[0]:\n",
    "        res.append(row.id)\n",
    "#crete dataframe from res list by the id\n",
    "res=df[df['id'].isin(res)]\n",
    "#get only the first_name and salary columns\n",
    "res=res[['first_name','salary']]\n",
    "res"
   ]
  }
 ],
 "metadata": {
  "kernelspec": {
   "display_name": "Python 3.9.12 ('base')",
   "language": "python",
   "name": "python3"
  },
  "language_info": {
   "codemirror_mode": {
    "name": "ipython",
    "version": 3
   },
   "file_extension": ".py",
   "mimetype": "text/x-python",
   "name": "python",
   "nbconvert_exporter": "python",
   "pygments_lexer": "ipython3",
   "version": "3.9.12"
  },
  "orig_nbformat": 4,
  "vscode": {
   "interpreter": {
    "hash": "3d5db532c048f37cc8487068e8e1c41ac5ce63d1b52e8a8c32ff882c22c4c18a"
   }
  }
 },
 "nbformat": 4,
 "nbformat_minor": 2
}
