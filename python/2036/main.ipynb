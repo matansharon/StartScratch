{
 "cells": [
  {
   "cell_type": "code",
   "execution_count": 8,
   "metadata": {},
   "outputs": [],
   "source": [
    "import pandas as pd"
   ]
  },
  {
   "attachments": {},
   "cell_type": "markdown",
   "metadata": {},
   "source": [
    "# Import your libraries\n",
    "import pandas as pd\n",
    "from pandas import Timestamp\n",
    "# Start writing code\n",
    "df=doordash_delivery\n",
    "temp=[]\n",
    "for k in df.keys():\n",
    "    print(k,end=',')\n",
    "\n",
    "# for i in range(len(df)):\n",
    "#     row=df.iloc[i]\n",
    "#     s=''\n",
    "#     for k in row.keys():\n",
    "        \n",
    "#         s+=str(row[k])+','\n",
    "#     print(s)\n",
    "\n",
    "\n",
    "\n",
    "print()"
   ]
  },
  {
   "cell_type": "code",
   "execution_count": 48,
   "metadata": {},
   "outputs": [
    {
     "data": {
      "text/plain": [
       "2020"
      ]
     },
     "execution_count": 48,
     "metadata": {},
     "output_type": "execute_result"
    }
   ],
   "source": [
    "df=pd.read_csv(\"input.csv\")\n",
    "df = pd.read_csv(\"input.csv\")\n",
    "#convert columns at 1,2,3 to datetime\n",
    "df.iloc[:,0] = pd.to_datetime(df.iloc[:,0])\n",
    "type(df.iloc[0][0])\n",
    "df.iloc[0][0].year\n"
   ]
  },
  {
   "cell_type": "code",
   "execution_count": null,
   "metadata": {},
   "outputs": [],
   "source": []
  },
  {
   "cell_type": "code",
   "execution_count": null,
   "metadata": {},
   "outputs": [],
   "source": []
  }
 ],
 "metadata": {
  "kernelspec": {
   "display_name": "base",
   "language": "python",
   "name": "python3"
  },
  "language_info": {
   "codemirror_mode": {
    "name": "ipython",
    "version": 3
   },
   "file_extension": ".py",
   "mimetype": "text/x-python",
   "name": "python",
   "nbconvert_exporter": "python",
   "pygments_lexer": "ipython3",
   "version": "3.9.13"
  },
  "orig_nbformat": 4,
  "vscode": {
   "interpreter": {
    "hash": "3f5489b7472e0db5a0aca474269aa1efb9aed33b7cc21a8c650b51c14ef83b94"
   }
  }
 },
 "nbformat": 4,
 "nbformat_minor": 2
}
