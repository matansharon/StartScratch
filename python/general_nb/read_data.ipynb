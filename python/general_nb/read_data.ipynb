{
 "cells": [
  {
   "cell_type": "code",
   "execution_count": 1,
   "metadata": {},
   "outputs": [],
   "source": [
    "import pandas as pd"
   ]
  },
  {
   "cell_type": "code",
   "execution_count": null,
   "metadata": {},
   "outputs": [],
   "source": [
    "# Import your libraries\n",
    "import pandas as pd\n",
    "df='doordash_delivery'\n",
    "temp=[]\n",
    "for k in df.keys():\n",
    "    print(k,end=',')\n",
    "\n",
    "for i in range(len(df)):\n",
    "    row=df.iloc[i]\n",
    "    s=''\n",
    "    for k in row.keys():\n",
    "        s+=str(row[k])+','\n",
    "    print(s)\n",
    "\n",
    "\n",
    "\n",
    "print()"
   ]
  },
  {
   "cell_type": "code",
   "execution_count": null,
   "metadata": {},
   "outputs": [],
   "source": [
    "df=pd.read_csv(\"input.csv\")\n",
    "\n",
    "#convert columns at 1,2,3 to datetime\n",
    "date_time_cols=[0,1,2,3]\n",
    "for i in date_time_cols:\n",
    "    df.iloc[:,i]=pd.to_datetime(df.iloc[:,i])\n"
   ]
  }
 ],
 "metadata": {
  "kernelspec": {
   "display_name": "base",
   "language": "python",
   "name": "python3"
  },
  "language_info": {
   "codemirror_mode": {
    "name": "ipython",
    "version": 3
   },
   "file_extension": ".py",
   "mimetype": "text/x-python",
   "name": "python",
   "nbconvert_exporter": "python",
   "pygments_lexer": "ipython3",
   "version": "3.9.13"
  },
  "orig_nbformat": 4,
  "vscode": {
   "interpreter": {
    "hash": "3f5489b7472e0db5a0aca474269aa1efb9aed33b7cc21a8c650b51c14ef83b94"
   }
  }
 },
 "nbformat": 4,
 "nbformat_minor": 2
}
