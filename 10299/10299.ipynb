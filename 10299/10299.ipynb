{
 "cells": [
  {
   "cell_type": "code",
   "execution_count": 44,
   "metadata": {},
   "outputs": [],
   "source": [
    "import pandas as pd\n",
    "import numpy as np\n",
    "from random import randint,choice"
   ]
  },
  {
   "cell_type": "code",
   "execution_count": 46,
   "metadata": {},
   "outputs": [],
   "source": [
    "class Person:\n",
    "    def __init__(self,first_name,last_name,id,department_id,salary=0):\n",
    "        self.first_name = first_name\n",
    "        self.last_name = last_name\n",
    "        self.id=id\n",
    "        self.department_id = department_id\n",
    "        self.salary=salary\n",
    "    def toString(self):\n",
    "        return self.first_name+\" \"+self.last_name+\" \"+str(self.id)+\" \"+str(self.department_id)+\" \"+str(self.salary)"
   ]
  },
  {
   "cell_type": "code",
   "execution_count": 83,
   "metadata": {},
   "outputs": [
    {
     "data": {
      "text/plain": [
       "array([4906, 5190, 5321, 6724, 4862,  564, 6327, 6472, 4930, 8827],\n",
       "      dtype=int64)"
      ]
     },
     "execution_count": 83,
     "metadata": {},
     "output_type": "execute_result"
    }
   ],
   "source": [
    "#generate a list of 10 Persons\n",
    "def generate_persons():\n",
    "    first_names = ['John','Jane','Jack','Jill','Joe','Jen','Jenny','Jenna','Jesse','Jasper']\n",
    "    last_names = ['Smith','Johnson','Williams','Brown','Jones','Miller','Davis','Garcia','Rodriguez','Wilson']\n",
    "    ids = np.arange(1,11)\n",
    "    department_ids = np.random.randint(1,10,10)\n",
    "    persons = []\n",
    "    for i in range(10):\n",
    "        persons.append(Person(first_names[i],last_names[i],ids[i],department_ids[i]))\n",
    "    return persons\n",
    "persons=generate_persons()\n",
    "#print persons tostring for each person\n",
    "\n",
    "dic={\n",
    "    'id':[],\n",
    "    'first_name':[],\n",
    "    'last_name':[],\n",
    "    'department_id':[],\n",
    "    'salary':[]\n",
    "    \n",
    "}\n",
    "for i in range(10000):\n",
    "    person = choice(persons)\n",
    "    person.salary = randint(1000,100000)\n",
    "    dic['id'].append(person.id)\n",
    "    dic['first_name'].append(person.first_name)\n",
    "    dic['last_name'].append(person.last_name)\n",
    "    dic['department_id'].append(person.department_id)\n",
    "    dic['salary'] .append(person.salary)\n",
    "df = pd.DataFrame(dic)\n",
    "#get the max salary for each person\n"
   ]
  },
  {
   "cell_type": "code",
   "execution_count": 87,
   "metadata": {},
   "outputs": [
    {
     "data": {
      "text/html": [
       "<div>\n",
       "<style scoped>\n",
       "    .dataframe tbody tr th:only-of-type {\n",
       "        vertical-align: middle;\n",
       "    }\n",
       "\n",
       "    .dataframe tbody tr th {\n",
       "        vertical-align: top;\n",
       "    }\n",
       "\n",
       "    .dataframe thead th {\n",
       "        text-align: right;\n",
       "    }\n",
       "</style>\n",
       "<table border=\"1\" class=\"dataframe\">\n",
       "  <thead>\n",
       "    <tr style=\"text-align: right;\">\n",
       "      <th></th>\n",
       "      <th>id</th>\n",
       "      <th>first_name</th>\n",
       "      <th>last_name</th>\n",
       "      <th>department_id</th>\n",
       "      <th>salary</th>\n",
       "    </tr>\n",
       "  </thead>\n",
       "  <tbody>\n",
       "    <tr>\n",
       "      <th>8827</th>\n",
       "      <td>1</td>\n",
       "      <td>John</td>\n",
       "      <td>Smith</td>\n",
       "      <td>2</td>\n",
       "      <td>99925</td>\n",
       "    </tr>\n",
       "    <tr>\n",
       "      <th>5190</th>\n",
       "      <td>2</td>\n",
       "      <td>Jane</td>\n",
       "      <td>Johnson</td>\n",
       "      <td>3</td>\n",
       "      <td>99837</td>\n",
       "    </tr>\n",
       "    <tr>\n",
       "      <th>4906</th>\n",
       "      <td>3</td>\n",
       "      <td>Jack</td>\n",
       "      <td>Williams</td>\n",
       "      <td>6</td>\n",
       "      <td>99993</td>\n",
       "    </tr>\n",
       "    <tr>\n",
       "      <th>6472</th>\n",
       "      <td>4</td>\n",
       "      <td>Jill</td>\n",
       "      <td>Brown</td>\n",
       "      <td>1</td>\n",
       "      <td>99968</td>\n",
       "    </tr>\n",
       "    <tr>\n",
       "      <th>4930</th>\n",
       "      <td>5</td>\n",
       "      <td>Joe</td>\n",
       "      <td>Jones</td>\n",
       "      <td>9</td>\n",
       "      <td>99937</td>\n",
       "    </tr>\n",
       "    <tr>\n",
       "      <th>6724</th>\n",
       "      <td>6</td>\n",
       "      <td>Jen</td>\n",
       "      <td>Miller</td>\n",
       "      <td>4</td>\n",
       "      <td>99993</td>\n",
       "    </tr>\n",
       "    <tr>\n",
       "      <th>564</th>\n",
       "      <td>7</td>\n",
       "      <td>Jenny</td>\n",
       "      <td>Davis</td>\n",
       "      <td>2</td>\n",
       "      <td>99985</td>\n",
       "    </tr>\n",
       "    <tr>\n",
       "      <th>4862</th>\n",
       "      <td>8</td>\n",
       "      <td>Jenna</td>\n",
       "      <td>Garcia</td>\n",
       "      <td>8</td>\n",
       "      <td>99782</td>\n",
       "    </tr>\n",
       "    <tr>\n",
       "      <th>6327</th>\n",
       "      <td>9</td>\n",
       "      <td>Jesse</td>\n",
       "      <td>Rodriguez</td>\n",
       "      <td>6</td>\n",
       "      <td>99940</td>\n",
       "    </tr>\n",
       "    <tr>\n",
       "      <th>5321</th>\n",
       "      <td>10</td>\n",
       "      <td>Jasper</td>\n",
       "      <td>Wilson</td>\n",
       "      <td>5</td>\n",
       "      <td>99942</td>\n",
       "    </tr>\n",
       "  </tbody>\n",
       "</table>\n",
       "</div>"
      ],
      "text/plain": [
       "      id first_name  last_name  department_id  salary\n",
       "8827   1       John      Smith              2   99925\n",
       "5190   2       Jane    Johnson              3   99837\n",
       "4906   3       Jack   Williams              6   99993\n",
       "6472   4       Jill      Brown              1   99968\n",
       "4930   5        Joe      Jones              9   99937\n",
       "6724   6        Jen     Miller              4   99993\n",
       "564    7      Jenny      Davis              2   99985\n",
       "4862   8      Jenna     Garcia              8   99782\n",
       "6327   9      Jesse  Rodriguez              6   99940\n",
       "5321  10     Jasper     Wilson              5   99942"
      ]
     },
     "execution_count": 87,
     "metadata": {},
     "output_type": "execute_result"
    }
   ],
   "source": [
    "df1=df.sort_values('salary').drop_duplicates(['first_name', 'last_name'], keep='last')\n",
    "df1.sort_values('id')"
   ]
  }
 ],
 "metadata": {
  "kernelspec": {
   "display_name": "base",
   "language": "python",
   "name": "python3"
  },
  "language_info": {
   "codemirror_mode": {
    "name": "ipython",
    "version": 3
   },
   "file_extension": ".py",
   "mimetype": "text/x-python",
   "name": "python",
   "nbconvert_exporter": "python",
   "pygments_lexer": "ipython3",
   "version": "3.9.13"
  },
  "orig_nbformat": 4,
  "vscode": {
   "interpreter": {
    "hash": "3f5489b7472e0db5a0aca474269aa1efb9aed33b7cc21a8c650b51c14ef83b94"
   }
  }
 },
 "nbformat": 4,
 "nbformat_minor": 2
}
